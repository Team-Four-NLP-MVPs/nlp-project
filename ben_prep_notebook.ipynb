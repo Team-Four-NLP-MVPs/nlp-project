{
 "cells": [
  {
   "cell_type": "code",
   "execution_count": 1,
   "id": "a77f1b7a",
   "metadata": {},
   "outputs": [
    {
     "name": "stderr",
     "output_type": "stream",
     "text": [
      "[nltk_data] Downloading package words to /Users/bfs7/nltk_data...\n",
      "[nltk_data]   Package words is already up-to-date!\n"
     ]
    },
    {
     "data": {
      "text/plain": [
       "True"
      ]
     },
     "execution_count": 1,
     "metadata": {},
     "output_type": "execute_result"
    }
   ],
   "source": [
    "import prepare\n",
    "from requests import get\n",
    "from bs4 import BeautifulSoup\n",
    "import os\n",
    "import pandas as pd\n",
    "import numpy as np\n",
    "import re\n",
    "import nltk\n",
    "nltk.download('words')"
   ]
  },
  {
   "cell_type": "code",
   "execution_count": 2,
   "id": "c4a4decf",
   "metadata": {},
   "outputs": [],
   "source": [
    "df = pd.read_json('data.json')\n",
    "df = prepare.prep_repos(df)"
   ]
  },
  {
   "cell_type": "code",
   "execution_count": 3,
   "id": "15cca57b",
   "metadata": {},
   "outputs": [],
   "source": [
    "words = pd.Series(' '.join(df.clean).split())"
   ]
  },
  {
   "cell_type": "code",
   "execution_count": 4,
   "id": "887e000e",
   "metadata": {},
   "outputs": [
    {
     "data": {
      "text/plain": [
       "https              5791\n",
       "githubcom          2176\n",
       "yes                1764\n",
       "unknown             913\n",
       "details             872\n",
       "                   ... \n",
       "ospf                  1\n",
       "spine                 1\n",
       "leaf                  1\n",
       "100111010001101       1\n",
       "didi                  1\n",
       "Length: 24588, dtype: int64"
      ]
     },
     "execution_count": 4,
     "metadata": {},
     "output_type": "execute_result"
    }
   ],
   "source": [
    "words.value_counts()"
   ]
  },
  {
   "cell_type": "code",
   "execution_count": 6,
   "id": "045ed9f7",
   "metadata": {},
   "outputs": [
    {
     "data": {
      "text/plain": [
       "13                 recommend\n",
       "16                    commit\n",
       "22                 githubcom\n",
       "37                 recommend\n",
       "50                 githubcom\n",
       "                 ...        \n",
       "117582    creativecommonsorg\n",
       "117585               commons\n",
       "117614    creativecommonsorg\n",
       "117632        recommendation\n",
       "117705                commit\n",
       "Length: 6071, dtype: object"
      ]
     },
     "execution_count": 6,
     "metadata": {},
     "output_type": "execute_result"
    }
   ],
   "source": [
    "words[words.str.contains('com')]"
   ]
  },
  {
   "cell_type": "code",
   "execution_count": 8,
   "id": "bda648eb",
   "metadata": {},
   "outputs": [
    {
     "data": {
      "text/html": [
       "<div>\n",
       "<style scoped>\n",
       "    .dataframe tbody tr th:only-of-type {\n",
       "        vertical-align: middle;\n",
       "    }\n",
       "\n",
       "    .dataframe tbody tr th {\n",
       "        vertical-align: top;\n",
       "    }\n",
       "\n",
       "    .dataframe thead th {\n",
       "        text-align: right;\n",
       "    }\n",
       "</style>\n",
       "<table border=\"1\" class=\"dataframe\">\n",
       "  <thead>\n",
       "    <tr style=\"text-align: right;\">\n",
       "      <th></th>\n",
       "      <th>repo</th>\n",
       "      <th>language</th>\n",
       "      <th>original</th>\n",
       "      <th>clean</th>\n",
       "      <th>stemmed</th>\n",
       "      <th>lemmatized</th>\n",
       "    </tr>\n",
       "  </thead>\n",
       "  <tbody>\n",
       "    <tr>\n",
       "      <th>104</th>\n",
       "      <td>cloudflare/cloudflare.github.io</td>\n",
       "      <td>CSS</td>\n",
       "      <td>cloudflare.github.io\\n====================\\n\\n...</td>\n",
       "      <td>cloudflaregithubio source code https cloudflar...</td>\n",
       "      <td>cloudflaregithubio sourc code http cloudflareg...</td>\n",
       "      <td>cloudflaregithubio source code http cloudflare...</td>\n",
       "    </tr>\n",
       "    <tr>\n",
       "      <th>105</th>\n",
       "      <td>eleme/eleme.github.io</td>\n",
       "      <td>CSS</td>\n",
       "      <td># Team Blog\\n\\nRequirements to join this blog:...</td>\n",
       "      <td>team blog requirements join blog 1 must develo...</td>\n",
       "      <td>team blog requir join blog 1 must develop elem...</td>\n",
       "      <td>team blog requirement join blog 1 must develop...</td>\n",
       "    </tr>\n",
       "    <tr>\n",
       "      <th>106</th>\n",
       "      <td>didi/didi.github.io</td>\n",
       "      <td>HTML</td>\n",
       "      <td># didi.github.io\\ndidi website\\n</td>\n",
       "      <td>didigithubio didi website</td>\n",
       "      <td>didigithubio didi websit</td>\n",
       "      <td>didigithubio didi website</td>\n",
       "    </tr>\n",
       "    <tr>\n",
       "      <th>107</th>\n",
       "      <td>alibaba/alibaba.github.com</td>\n",
       "      <td>CSS</td>\n",
       "      <td></td>\n",
       "      <td></td>\n",
       "      <td></td>\n",
       "      <td></td>\n",
       "    </tr>\n",
       "    <tr>\n",
       "      <th>108</th>\n",
       "      <td>google/google.github.io</td>\n",
       "      <td>HTML</td>\n",
       "      <td></td>\n",
       "      <td></td>\n",
       "      <td></td>\n",
       "      <td></td>\n",
       "    </tr>\n",
       "  </tbody>\n",
       "</table>\n",
       "</div>"
      ],
      "text/plain": [
       "                                repo language  \\\n",
       "104  cloudflare/cloudflare.github.io      CSS   \n",
       "105            eleme/eleme.github.io      CSS   \n",
       "106              didi/didi.github.io     HTML   \n",
       "107       alibaba/alibaba.github.com      CSS   \n",
       "108          google/google.github.io     HTML   \n",
       "\n",
       "                                              original  \\\n",
       "104  cloudflare.github.io\\n====================\\n\\n...   \n",
       "105  # Team Blog\\n\\nRequirements to join this blog:...   \n",
       "106                   # didi.github.io\\ndidi website\\n   \n",
       "107                                                      \n",
       "108                                                      \n",
       "\n",
       "                                                 clean  \\\n",
       "104  cloudflaregithubio source code https cloudflar...   \n",
       "105  team blog requirements join blog 1 must develo...   \n",
       "106                          didigithubio didi website   \n",
       "107                                                      \n",
       "108                                                      \n",
       "\n",
       "                                               stemmed  \\\n",
       "104  cloudflaregithubio sourc code http cloudflareg...   \n",
       "105  team blog requir join blog 1 must develop elem...   \n",
       "106                           didigithubio didi websit   \n",
       "107                                                      \n",
       "108                                                      \n",
       "\n",
       "                                            lemmatized  \n",
       "104  cloudflaregithubio source code http cloudflare...  \n",
       "105  team blog requirement join blog 1 must develop...  \n",
       "106                          didigithubio didi website  \n",
       "107                                                     \n",
       "108                                                     "
      ]
     },
     "execution_count": 8,
     "metadata": {},
     "output_type": "execute_result"
    }
   ],
   "source": [
    "df.tail()"
   ]
  },
  {
   "cell_type": "code",
   "execution_count": 13,
   "id": "7bb6f4ef",
   "metadata": {},
   "outputs": [
    {
     "data": {
      "text/html": [
       "<div>\n",
       "<style scoped>\n",
       "    .dataframe tbody tr th:only-of-type {\n",
       "        vertical-align: middle;\n",
       "    }\n",
       "\n",
       "    .dataframe tbody tr th {\n",
       "        vertical-align: top;\n",
       "    }\n",
       "\n",
       "    .dataframe thead th {\n",
       "        text-align: right;\n",
       "    }\n",
       "</style>\n",
       "<table border=\"1\" class=\"dataframe\">\n",
       "  <thead>\n",
       "    <tr style=\"text-align: right;\">\n",
       "      <th></th>\n",
       "      <th>repo</th>\n",
       "      <th>language</th>\n",
       "      <th>original</th>\n",
       "      <th>clean</th>\n",
       "      <th>stemmed</th>\n",
       "      <th>lemmatized</th>\n",
       "    </tr>\n",
       "  </thead>\n",
       "  <tbody>\n",
       "    <tr>\n",
       "      <th>35</th>\n",
       "      <td>NvChad/NvChad</td>\n",
       "      <td>Lua</td>\n",
       "      <td></td>\n",
       "      <td></td>\n",
       "      <td></td>\n",
       "      <td></td>\n",
       "    </tr>\n",
       "    <tr>\n",
       "      <th>103</th>\n",
       "      <td>godaddy/godaddy.github.io</td>\n",
       "      <td>HTML</td>\n",
       "      <td></td>\n",
       "      <td></td>\n",
       "      <td></td>\n",
       "      <td></td>\n",
       "    </tr>\n",
       "    <tr>\n",
       "      <th>107</th>\n",
       "      <td>alibaba/alibaba.github.com</td>\n",
       "      <td>CSS</td>\n",
       "      <td></td>\n",
       "      <td></td>\n",
       "      <td></td>\n",
       "      <td></td>\n",
       "    </tr>\n",
       "    <tr>\n",
       "      <th>108</th>\n",
       "      <td>google/google.github.io</td>\n",
       "      <td>HTML</td>\n",
       "      <td></td>\n",
       "      <td></td>\n",
       "      <td></td>\n",
       "      <td></td>\n",
       "    </tr>\n",
       "  </tbody>\n",
       "</table>\n",
       "</div>"
      ],
      "text/plain": [
       "                           repo language original clean stemmed lemmatized\n",
       "35                NvChad/NvChad      Lua                                  \n",
       "103   godaddy/godaddy.github.io     HTML                                  \n",
       "107  alibaba/alibaba.github.com      CSS                                  \n",
       "108     google/google.github.io     HTML                                  "
      ]
     },
     "execution_count": 13,
     "metadata": {},
     "output_type": "execute_result"
    }
   ],
   "source": [
    "df[df.original == '']"
   ]
  },
  {
   "cell_type": "code",
   "execution_count": 19,
   "id": "aee79c5a",
   "metadata": {},
   "outputs": [
    {
     "data": {
      "text/plain": [
       "0      # GoogleTest\\n\\n### Announcements\\n\\n#### Live...\n",
       "1      \\n\\n<h1 align=\"center\">\\nNuclei Templates\\n</h...\n",
       "2      [![GitHub stars](https://img.shields.io/github...\n",
       "3      # [![Flutter logo][]][flutter.dev]\\n\\n[![Build...\n",
       "4      English | [简体中文](README_ch.md)\\n\\n<p align=\"ce...\n",
       "                             ...                        \n",
       "104    cloudflare.github.io\\n====================\\n\\n...\n",
       "105    # Team Blog\\n\\nRequirements to join this blog:...\n",
       "106                     # didi.github.io\\ndidi website\\n\n",
       "107                                                  NaN\n",
       "108                                                  NaN\n",
       "Name: original, Length: 109, dtype: object"
      ]
     },
     "execution_count": 19,
     "metadata": {},
     "output_type": "execute_result"
    }
   ],
   "source": [
    "df.original.apply(lambda text: np.nan if text == '' else text)"
   ]
  },
  {
   "cell_type": "code",
   "execution_count": null,
   "id": "9cd21b90",
   "metadata": {},
   "outputs": [],
   "source": []
  }
 ],
 "metadata": {
  "kernelspec": {
   "display_name": "Python 3 (ipykernel)",
   "language": "python",
   "name": "python3"
  },
  "language_info": {
   "codemirror_mode": {
    "name": "ipython",
    "version": 3
   },
   "file_extension": ".py",
   "mimetype": "text/x-python",
   "name": "python",
   "nbconvert_exporter": "python",
   "pygments_lexer": "ipython3",
   "version": "3.9.7"
  }
 },
 "nbformat": 4,
 "nbformat_minor": 5
}
