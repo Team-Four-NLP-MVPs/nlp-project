{
 "cells": [
  {
   "cell_type": "code",
   "execution_count": 53,
   "id": "79620f5b",
   "metadata": {},
   "outputs": [],
   "source": [
    "from requests import get\n",
    "from bs4 import BeautifulSoup\n",
    "import os\n",
    "import pandas as pd\n",
    "import numpy as np\n",
    "import re\n",
    "\n",
    "from sklearn.feature_extraction.text import TfidfVectorizer\n",
    "\n",
    "import acquire\n",
    "import prepare\n",
    "\n",
    "import sklearn as sk\n",
    "from sklearn.linear_model import LinearRegression\n",
    "from sklearn.feature_selection import RFE\n",
    "from sklearn.tree import DecisionTreeClassifier, plot_tree\n",
    "from sklearn.ensemble import RandomForestClassifier\n",
    "from sklearn.neighbors import KNeighborsClassifier\n",
    "from sklearn.linear_model import LogisticRegression\n",
    "\n",
    "random_state = 42"
   ]
  },
  {
   "cell_type": "code",
   "execution_count": 54,
   "id": "34a3b81f",
   "metadata": {},
   "outputs": [],
   "source": [
    "df = pd.read_json('data.json')\n",
    "df = prepare.prep_repos(df)"
   ]
  },
  {
   "cell_type": "code",
   "execution_count": 55,
   "id": "152d512f",
   "metadata": {},
   "outputs": [],
   "source": [
    "df['language_reduced'] = df.language.apply(lambda lang: lang if lang in ['JavaScript', 'HTML', 'Python'] else 'Other')"
   ]
  },
  {
   "cell_type": "code",
   "execution_count": 56,
   "id": "d5f563de",
   "metadata": {},
   "outputs": [
    {
     "data": {
      "text/html": [
       "<div>\n",
       "<style scoped>\n",
       "    .dataframe tbody tr th:only-of-type {\n",
       "        vertical-align: middle;\n",
       "    }\n",
       "\n",
       "    .dataframe tbody tr th {\n",
       "        vertical-align: top;\n",
       "    }\n",
       "\n",
       "    .dataframe thead th {\n",
       "        text-align: right;\n",
       "    }\n",
       "</style>\n",
       "<table border=\"1\" class=\"dataframe\">\n",
       "  <thead>\n",
       "    <tr style=\"text-align: right;\">\n",
       "      <th></th>\n",
       "      <th>repo</th>\n",
       "      <th>language</th>\n",
       "      <th>original</th>\n",
       "      <th>clean</th>\n",
       "      <th>stemmed</th>\n",
       "      <th>lemmatized</th>\n",
       "      <th>language_reduced</th>\n",
       "    </tr>\n",
       "  </thead>\n",
       "  <tbody>\n",
       "    <tr>\n",
       "      <th>0</th>\n",
       "      <td>google/googletest</td>\n",
       "      <td>C++</td>\n",
       "      <td># GoogleTest\\n\\n### Announcements\\n\\n#### Live...</td>\n",
       "      <td>googletest announcements live head googletest ...</td>\n",
       "      <td>googletest announc live head googletest follow...</td>\n",
       "      <td>googletest announcement live head googletest f...</td>\n",
       "      <td>Other</td>\n",
       "    </tr>\n",
       "    <tr>\n",
       "      <th>1</th>\n",
       "      <td>projectdiscovery/nuclei-templates</td>\n",
       "      <td>Python</td>\n",
       "      <td>\\n\\n&lt;h1 align=\"center\"&gt;\\nNuclei Templates\\n&lt;/h...</td>\n",
       "      <td>h1 aligncenter nuclei templates h1 h4 aligncen...</td>\n",
       "      <td>h1 aligncent nuclei templat h1 h4 aligncenterc...</td>\n",
       "      <td>h1 aligncenter nucleus template h1 h4 aligncen...</td>\n",
       "      <td>Python</td>\n",
       "    </tr>\n",
       "    <tr>\n",
       "      <th>2</th>\n",
       "      <td>digitalocean/nginxconfig.io</td>\n",
       "      <td>JavaScript</td>\n",
       "      <td>[![GitHub stars](https://img.shields.io/github...</td>\n",
       "      <td>github starshttpsimgshieldsiogithubstarsdigita...</td>\n",
       "      <td>github starshttpsimgshieldsiogithubstarsdigita...</td>\n",
       "      <td>github starshttpsimgshieldsiogithubstarsdigita...</td>\n",
       "      <td>JavaScript</td>\n",
       "    </tr>\n",
       "    <tr>\n",
       "      <th>3</th>\n",
       "      <td>flutter/flutter</td>\n",
       "      <td>Dart</td>\n",
       "      <td># [![Flutter logo][]][flutter.dev]\\n\\n[![Build...</td>\n",
       "      <td>flutter logoflutterdev build status cirrusbuil...</td>\n",
       "      <td>flutter logoflutterdev build statu cirrusbuild...</td>\n",
       "      <td>flutter logoflutterdev build status cirrusbuil...</td>\n",
       "      <td>Other</td>\n",
       "    </tr>\n",
       "    <tr>\n",
       "      <th>4</th>\n",
       "      <td>PaddlePaddle/PaddleOCR</td>\n",
       "      <td>Python</td>\n",
       "      <td>English | [简体中文](README_ch.md)\\n\\n&lt;p align=\"ce...</td>\n",
       "      <td>english readmechmd p aligncenter img srcdocpad...</td>\n",
       "      <td>english readmechmd p aligncent img srcdocpaddl...</td>\n",
       "      <td>english readmechmd p aligncenter img srcdocpad...</td>\n",
       "      <td>Python</td>\n",
       "    </tr>\n",
       "  </tbody>\n",
       "</table>\n",
       "</div>"
      ],
      "text/plain": [
       "                                repo    language  \\\n",
       "0                  google/googletest         C++   \n",
       "1  projectdiscovery/nuclei-templates      Python   \n",
       "2        digitalocean/nginxconfig.io  JavaScript   \n",
       "3                    flutter/flutter        Dart   \n",
       "4             PaddlePaddle/PaddleOCR      Python   \n",
       "\n",
       "                                            original  \\\n",
       "0  # GoogleTest\\n\\n### Announcements\\n\\n#### Live...   \n",
       "1  \\n\\n<h1 align=\"center\">\\nNuclei Templates\\n</h...   \n",
       "2  [![GitHub stars](https://img.shields.io/github...   \n",
       "3  # [![Flutter logo][]][flutter.dev]\\n\\n[![Build...   \n",
       "4  English | [简体中文](README_ch.md)\\n\\n<p align=\"ce...   \n",
       "\n",
       "                                               clean  \\\n",
       "0  googletest announcements live head googletest ...   \n",
       "1  h1 aligncenter nuclei templates h1 h4 aligncen...   \n",
       "2  github starshttpsimgshieldsiogithubstarsdigita...   \n",
       "3  flutter logoflutterdev build status cirrusbuil...   \n",
       "4  english readmechmd p aligncenter img srcdocpad...   \n",
       "\n",
       "                                             stemmed  \\\n",
       "0  googletest announc live head googletest follow...   \n",
       "1  h1 aligncent nuclei templat h1 h4 aligncenterc...   \n",
       "2  github starshttpsimgshieldsiogithubstarsdigita...   \n",
       "3  flutter logoflutterdev build statu cirrusbuild...   \n",
       "4  english readmechmd p aligncent img srcdocpaddl...   \n",
       "\n",
       "                                          lemmatized language_reduced  \n",
       "0  googletest announcement live head googletest f...            Other  \n",
       "1  h1 aligncenter nucleus template h1 h4 aligncen...           Python  \n",
       "2  github starshttpsimgshieldsiogithubstarsdigita...       JavaScript  \n",
       "3  flutter logoflutterdev build status cirrusbuil...            Other  \n",
       "4  english readmechmd p aligncenter img srcdocpad...           Python  "
      ]
     },
     "execution_count": 56,
     "metadata": {},
     "output_type": "execute_result"
    }
   ],
   "source": [
    "df.head()"
   ]
  },
  {
   "cell_type": "code",
   "execution_count": 57,
   "id": "3db5d8cb",
   "metadata": {},
   "outputs": [],
   "source": [
    "corpus = 'lemmatized'\n",
    "target = 'language_reduced'"
   ]
  },
  {
   "cell_type": "code",
   "execution_count": 58,
   "id": "d928c1bc",
   "metadata": {},
   "outputs": [
    {
     "name": "stdout",
     "output_type": "stream",
     "text": [
      "train\t n = 60\n",
      "train\t n = 60\n",
      "validate n = 27\n",
      "train\t n = 27\n",
      "test\t n = 22\n",
      "train\t n = 22\n"
     ]
    }
   ],
   "source": [
    "x = df[corpus]\n",
    "y = df[target]\n",
    "\n",
    "x_train, y_train,\\\n",
    "x_validate, y_validate, \\\n",
    "x_test, y_test = prepare.train_validate_test_split(x, y)"
   ]
  },
  {
   "cell_type": "code",
   "execution_count": 59,
   "id": "2f0c7afa",
   "metadata": {},
   "outputs": [],
   "source": [
    "def run_baseline(y_train, \n",
    "                 y_validate, \n",
    "                 model_number, \n",
    "                 model_results):\n",
    "    \n",
    "    # establish baseline predictions for train sample\n",
    "    y_pred = pd.Series([y_train.mode()[0]]).repeat(len(y_train))\n",
    "    \n",
    "    # get model performance metrics\n",
    "    \n",
    "    # create dictionaries for each metric type for the train sample and \n",
    "    # append those dictionaries to the model_results df\n",
    "    dct = {'model_number': 'baseline',\n",
    "           'model_type': 'baseline',\n",
    "           'sample_type': 'train',\n",
    "           'accuracy': sk.metrics.accuracy_score(y_train, y_pred)}\n",
    "    model_results = model_results.append(dct, ignore_index=True)\n",
    "    \n",
    "    # reset the model_number from 'baseline' to 0\n",
    "    model_number = 0\n",
    "    \n",
    "    return model_number, model_results"
   ]
  },
  {
   "cell_type": "code",
   "execution_count": 60,
   "id": "dc29c5d1",
   "metadata": {},
   "outputs": [],
   "source": [
    "model_number = 0 \n",
    "model_results = pd.DataFrame()\n",
    "\n",
    "model_number, model_results = run_baseline(y_train, \n",
    "                                           y_validate, \n",
    "                                           model_number, \n",
    "                                           model_results)"
   ]
  },
  {
   "cell_type": "code",
   "execution_count": 61,
   "id": "2c466b81",
   "metadata": {},
   "outputs": [
    {
     "data": {
      "text/plain": [
       "0"
      ]
     },
     "execution_count": 61,
     "metadata": {},
     "output_type": "execute_result"
    }
   ],
   "source": [
    "model_number"
   ]
  },
  {
   "cell_type": "code",
   "execution_count": 62,
   "id": "2e3a06bf",
   "metadata": {},
   "outputs": [
    {
     "data": {
      "text/html": [
       "<div>\n",
       "<style scoped>\n",
       "    .dataframe tbody tr th:only-of-type {\n",
       "        vertical-align: middle;\n",
       "    }\n",
       "\n",
       "    .dataframe tbody tr th {\n",
       "        vertical-align: top;\n",
       "    }\n",
       "\n",
       "    .dataframe thead th {\n",
       "        text-align: right;\n",
       "    }\n",
       "</style>\n",
       "<table border=\"1\" class=\"dataframe\">\n",
       "  <thead>\n",
       "    <tr style=\"text-align: right;\">\n",
       "      <th></th>\n",
       "      <th>model_number</th>\n",
       "      <th>model_type</th>\n",
       "      <th>sample_type</th>\n",
       "      <th>accuracy</th>\n",
       "    </tr>\n",
       "  </thead>\n",
       "  <tbody>\n",
       "    <tr>\n",
       "      <th>0</th>\n",
       "      <td>baseline</td>\n",
       "      <td>baseline</td>\n",
       "      <td>train</td>\n",
       "      <td>0.65</td>\n",
       "    </tr>\n",
       "  </tbody>\n",
       "</table>\n",
       "</div>"
      ],
      "text/plain": [
       "  model_number model_type sample_type  accuracy\n",
       "0     baseline   baseline       train      0.65"
      ]
     },
     "execution_count": 62,
     "metadata": {},
     "output_type": "execute_result"
    }
   ],
   "source": [
    "model_results"
   ]
  },
  {
   "cell_type": "code",
   "execution_count": 63,
   "id": "82579f4a",
   "metadata": {},
   "outputs": [],
   "source": [
    "def run_decision_tree(x_train, y_train, \n",
    "                      x_validate, y_validate,\n",
    "                      model_number, model_results):\n",
    "        \n",
    "    min_max_depth = 3\n",
    "    max_max_depth = 10\n",
    "    \n",
    "    \n",
    "    for max_depth in range(min_max_depth, max_max_depth+1):\n",
    "        \n",
    "        model_number += 1\n",
    "        model_type = 'decision_tree'\n",
    "        \n",
    "        tree = DecisionTreeClassifier(max_depth=max_depth)\n",
    "       \n",
    "        #################\n",
    "        #### TF-IDF #####\n",
    "        #################\n",
    "        feature_type = 'TF-IDF'\n",
    "        \n",
    "        tfidf = TfidfVectorizer().fit(x_train)\n",
    "        x_tfidf = tfidf.transform(x_train)\n",
    "        tree.fit(x_tfidf, y_train)\n",
    "        \n",
    "        # store info about the model\n",
    "        \n",
    "        ####################\n",
    "        ### train sample ###\n",
    "        ####################\n",
    "            \n",
    "        # create a dictionary containing the features and hyperparameters\n",
    "        # used in this model instance\n",
    "        dct = {'model_number': model_number,\n",
    "               'model_type': model_type,\n",
    "               'sample_type': 'train',\n",
    "               'feature_type': feature_type,\n",
    "               'max_depth': max_depth,\n",
    "               'accuracy': tree.score(tfidf.transform(x_train), y_train)}\n",
    "        # append that dictionary to the model_results dataframe\n",
    "        model_results = model_results.append(dct, ignore_index=True)\n",
    "        \n",
    "        #######################\n",
    "        ### validate sample ###\n",
    "        #######################\n",
    "        \n",
    "        # create a dictionary containing the features and hyperparameters\n",
    "        # used in this model instance\n",
    "        dct = {'model_number': model_number,\n",
    "               'model_type': model_type,\n",
    "               'sample_type': 'validate',\n",
    "               'feature_type': feature_type,\n",
    "               'max_depth': max_depth,\n",
    "               'accuracy': tree.score(tfidf.transform(x_validate), y_validate)}\n",
    "        # append that dictionary to the model_results dataframe\n",
    "        model_results = model_results.append(dct, ignore_index=True)\n",
    "        \n",
    "    return model_number, model_results"
   ]
  },
  {
   "cell_type": "code",
   "execution_count": 64,
   "id": "9b7be99b",
   "metadata": {},
   "outputs": [],
   "source": [
    "model_number, model_results = run_decision_tree(x_train, y_train,\n",
    "                                                x_validate, y_validate,\n",
    "                                                model_number, model_results)"
   ]
  },
  {
   "cell_type": "code",
   "execution_count": null,
   "id": "86f6bd2f",
   "metadata": {},
   "outputs": [],
   "source": [
    "def "
   ]
  }
 ],
 "metadata": {
  "kernelspec": {
   "display_name": "Python 3 (ipykernel)",
   "language": "python",
   "name": "python3"
  },
  "language_info": {
   "codemirror_mode": {
    "name": "ipython",
    "version": 3
   },
   "file_extension": ".py",
   "mimetype": "text/x-python",
   "name": "python",
   "nbconvert_exporter": "python",
   "pygments_lexer": "ipython3",
   "version": "3.9.7"
  }
 },
 "nbformat": 4,
 "nbformat_minor": 5
}
