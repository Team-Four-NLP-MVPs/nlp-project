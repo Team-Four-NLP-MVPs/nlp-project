{
 "cells": [
  {
   "cell_type": "code",
   "execution_count": 12,
   "id": "f39b2236",
   "metadata": {},
   "outputs": [],
   "source": [
    "from requests import get\n",
    "from bs4 import BeautifulSoup\n",
    "import os\n",
    "import pandas as pd\n",
    "import numpy as np\n",
    "import re\n",
    "\n",
    "import acquire"
   ]
  },
  {
   "cell_type": "code",
   "execution_count": 13,
   "id": "4e2c23c2",
   "metadata": {},
   "outputs": [],
   "source": [
    "url = 'https://github.com/trending?spoken_language_code=en'\n",
    "response = get(url)\n",
    "soup = BeautifulSoup(response.text, 'html.parser')"
   ]
  },
  {
   "cell_type": "code",
   "execution_count": 14,
   "id": "f3687786",
   "metadata": {},
   "outputs": [
    {
     "data": {
      "text/plain": [
       "'/google/googletest'"
      ]
     },
     "execution_count": 14,
     "metadata": {},
     "output_type": "execute_result"
    }
   ],
   "source": [
    "soup.select_one('.Box-row').select_one('h1').select_one('a').attrs['href']"
   ]
  },
  {
   "cell_type": "code",
   "execution_count": 15,
   "id": "3e09a135",
   "metadata": {},
   "outputs": [],
   "source": [
    "endpoints = []\n",
    "for url in ['https://github.com/trending?since=daily&spoken_language_code=en',\n",
    "            'https://github.com/trending?since=weekly&spoken_language_code=en',\n",
    "            'https://github.com/trending?since=monthly&spoken_language_code=en']:\n",
    "    response = get(url)\n",
    "    soup = BeautifulSoup(response.text, 'html.parser')\n",
    "    soup.select_one('.Box-row').select_one('h1').select_one('a').attrs['href']\n",
    "    for repo in soup.select('.Box-row'):\n",
    "        endpoints.append(repo\n",
    "                         .select_one('h1')\n",
    "                         .select_one('a')\n",
    "                         .attrs['href'])"
   ]
  },
  {
   "cell_type": "code",
   "execution_count": 16,
   "id": "e77e921c",
   "metadata": {},
   "outputs": [
    {
     "data": {
      "text/plain": [
       "70"
      ]
     },
     "execution_count": 16,
     "metadata": {},
     "output_type": "execute_result"
    }
   ],
   "source": [
    "pd.Series(endpoints).nunique()"
   ]
  },
  {
   "cell_type": "code",
   "execution_count": 17,
   "id": "6290fd01",
   "metadata": {},
   "outputs": [],
   "source": [
    "url = 'https://github.com/collections/learn-to-code'\n",
    "for url in ['https://github.com/collections/learn-to-code',\n",
    "            'https://github.com/collections/open-source-organizations']:\n",
    "    response = get(url)\n",
    "    soup = BeautifulSoup(response.text, 'html.parser')\n",
    "\n",
    "    for repo in soup.select('article'):\n",
    "        endpoints.append(repo.select_one('h1').select_one('a').attrs['href'])\n"
   ]
  },
  {
   "cell_type": "code",
   "execution_count": 18,
   "id": "f33774ba",
   "metadata": {},
   "outputs": [
    {
     "data": {
      "text/plain": [
       "109"
      ]
     },
     "execution_count": 18,
     "metadata": {},
     "output_type": "execute_result"
    }
   ],
   "source": [
    "pd.Series(endpoints).nunique()"
   ]
  },
  {
   "cell_type": "code",
   "execution_count": 19,
   "id": "a0d271df",
   "metadata": {},
   "outputs": [],
   "source": [
    "def get_endpoints():\n",
    "    \n",
    "    endpoints = []\n",
    "    \n",
    "    for url in ['https://github.com/trending?since=daily&spoken_language_code=en',\n",
    "                'https://github.com/trending?since=weekly&spoken_language_code=en',\n",
    "                'https://github.com/trending?since=monthly&spoken_language_code=en']:\n",
    "        response = get(url)\n",
    "        soup = BeautifulSoup(response.text, 'html.parser')\n",
    "        soup.select_one('.Box-row').select_one('h1').select_one('a').attrs['href']\n",
    "        for repo in soup.select('.Box-row'):\n",
    "            endpoints.append(repo\n",
    "                             .select_one('h1')\n",
    "                             .select_one('a')\n",
    "                             .attrs['href'])\n",
    "    \n",
    "    for url in ['https://github.com/collections/learn-to-code',\n",
    "            'https://github.com/collections/open-source-organizations']:\n",
    "        response = get(url)\n",
    "        soup = BeautifulSoup(response.text, 'html.parser')\n",
    "        for repo in soup.select('article'):\n",
    "            endpoints.append(repo.select_one('h1').select_one('a').attrs['href'])\n",
    "            \n",
    "    return endpoints"
   ]
  },
  {
   "cell_type": "code",
   "execution_count": 20,
   "id": "03d93ca6",
   "metadata": {},
   "outputs": [
    {
     "data": {
      "text/plain": [
       "109"
      ]
     },
     "execution_count": 20,
     "metadata": {},
     "output_type": "execute_result"
    }
   ],
   "source": [
    "endpoints = get_endpoints()\n",
    "pd.Series(endpoints).nunique()"
   ]
  },
  {
   "cell_type": "code",
   "execution_count": 21,
   "id": "53f8934d",
   "metadata": {},
   "outputs": [
    {
     "data": {
      "text/plain": [
       "109"
      ]
     },
     "execution_count": 21,
     "metadata": {},
     "output_type": "execute_result"
    }
   ],
   "source": [
    "endpoints = acquire.get_endpoints()\n",
    "pd.Series(endpoints).nunique()"
   ]
  },
  {
   "cell_type": "code",
   "execution_count": null,
   "id": "6f189b6a",
   "metadata": {},
   "outputs": [],
   "source": []
  }
 ],
 "metadata": {
  "kernelspec": {
   "display_name": "Python 3 (ipykernel)",
   "language": "python",
   "name": "python3"
  },
  "language_info": {
   "codemirror_mode": {
    "name": "ipython",
    "version": 3
   },
   "file_extension": ".py",
   "mimetype": "text/x-python",
   "name": "python",
   "nbconvert_exporter": "python",
   "pygments_lexer": "ipython3",
   "version": "3.9.7"
  }
 },
 "nbformat": 4,
 "nbformat_minor": 5
}
