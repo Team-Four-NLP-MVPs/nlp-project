{
 "cells": [
  {
   "cell_type": "code",
   "execution_count": 3,
   "id": "f39b2236",
   "metadata": {},
   "outputs": [],
   "source": [
    "from requests import get\n",
    "from bs4 import BeautifulSoup\n",
    "import os\n",
    "import pandas as pd\n",
    "import numpy as np\n",
    "import re\n",
    "\n",
    "import acquire"
   ]
  },
  {
   "cell_type": "code",
   "execution_count": null,
   "id": "4e2c23c2",
   "metadata": {},
   "outputs": [],
   "source": [
    "url = 'https://github.com/trending?spoken_language_code=en'\n",
    "response = get(url)\n",
    "soup = BeautifulSoup(response.text, 'html.parser')"
   ]
  },
  {
   "cell_type": "code",
   "execution_count": null,
   "id": "f3687786",
   "metadata": {},
   "outputs": [],
   "source": [
    "soup.select_one('.Box-row').select_one('h1').select_one('a').attrs['href']"
   ]
  },
  {
   "cell_type": "code",
   "execution_count": null,
   "id": "3e09a135",
   "metadata": {},
   "outputs": [],
   "source": [
    "endpoints = []\n",
    "for url in ['https://github.com/trending?since=daily&spoken_language_code=en',\n",
    "            'https://github.com/trending?since=weekly&spoken_language_code=en',\n",
    "            'https://github.com/trending?since=monthly&spoken_language_code=en']:\n",
    "    response = get(url)\n",
    "    soup = BeautifulSoup(response.text, 'html.parser')\n",
    "    soup.select_one('.Box-row').select_one('h1').select_one('a').attrs['href']\n",
    "    for repo in soup.select('.Box-row'):\n",
    "        endpoints.append(repo\n",
    "                         .select_one('h1')\n",
    "                         .select_one('a')\n",
    "                         .attrs['href'])"
   ]
  },
  {
   "cell_type": "code",
   "execution_count": null,
   "id": "e77e921c",
   "metadata": {},
   "outputs": [],
   "source": [
    "pd.Series(endpoints).nunique()"
   ]
  },
  {
   "cell_type": "code",
   "execution_count": null,
   "id": "6290fd01",
   "metadata": {},
   "outputs": [],
   "source": [
    "url = 'https://github.com/collections/learn-to-code'\n",
    "for url in ['https://github.com/collections/learn-to-code',\n",
    "            'https://github.com/collections/open-source-organizations']:\n",
    "    response = get(url)\n",
    "    soup = BeautifulSoup(response.text, 'html.parser')\n",
    "\n",
    "    for repo in soup.select('article'):\n",
    "        endpoints.append(repo.select_one('h1').select_one('a').attrs['href'])\n"
   ]
  },
  {
   "cell_type": "code",
   "execution_count": null,
   "id": "f33774ba",
   "metadata": {},
   "outputs": [],
   "source": [
    "pd.Series(endpoints).nunique()"
   ]
  },
  {
   "cell_type": "code",
   "execution_count": 1,
   "id": "a0d271df",
   "metadata": {},
   "outputs": [],
   "source": [
    "def get_endpoints():\n",
    "    \n",
    "    endpoints = []\n",
    "    \n",
    "    for url in ['https://github.com/trending?since=daily&spoken_language_code=en',\n",
    "                'https://github.com/trending?since=weekly&spoken_language_code=en',\n",
    "                'https://github.com/trending?since=monthly&spoken_language_code=en']:\n",
    "        response = get(url)\n",
    "        soup = BeautifulSoup(response.text, 'html.parser')\n",
    "        soup.select_one('.Box-row').select_one('h1').select_one('a').attrs['href']\n",
    "        for repo in soup.select('.Box-row'):\n",
    "            endpoints.append(repo\n",
    "                             .select_one('h1')\n",
    "                             .select_one('a')\n",
    "                             .attrs['href'])\n",
    "    \n",
    "    for url in ['https://github.com/collections/learn-to-code',\n",
    "            'https://github.com/collections/open-source-organizations']:\n",
    "        response = get(url)\n",
    "        soup = BeautifulSoup(response.text, 'html.parser')\n",
    "        for repo in soup.select('article'):\n",
    "            endpoints.append(repo.select_one('h1').select_one('a').attrs['href'])\n",
    "            \n",
    "    return endpoints"
   ]
  },
  {
   "cell_type": "code",
   "execution_count": null,
   "id": "03d93ca6",
   "metadata": {},
   "outputs": [],
   "source": [
    "endpoints = get_endpoints()\n",
    "pd.Series(endpoints).nunique()"
   ]
  },
  {
   "cell_type": "code",
   "execution_count": 4,
   "id": "53f8934d",
   "metadata": {},
   "outputs": [
    {
     "data": {
      "text/plain": [
       "109"
      ]
     },
     "execution_count": 4,
     "metadata": {},
     "output_type": "execute_result"
    }
   ],
   "source": [
    "endpoints = acquire.get_endpoints()\n",
    "pd.Series(endpoints).nunique()"
   ]
  },
  {
   "cell_type": "code",
   "execution_count": 7,
   "id": "aaaa391a",
   "metadata": {},
   "outputs": [],
   "source": [
    "endpoints = pd.Series(endpoints).drop_duplicates()"
   ]
  },
  {
   "cell_type": "code",
   "execution_count": 10,
   "id": "7aa36766",
   "metadata": {},
   "outputs": [],
   "source": [
    "endpoints.to_csv('repos.csv', index=False)"
   ]
  },
  {
   "cell_type": "code",
   "execution_count": 11,
   "id": "65c71cbc",
   "metadata": {},
   "outputs": [
    {
     "data": {
      "text/html": [
       "<div>\n",
       "<style scoped>\n",
       "    .dataframe tbody tr th:only-of-type {\n",
       "        vertical-align: middle;\n",
       "    }\n",
       "\n",
       "    .dataframe tbody tr th {\n",
       "        vertical-align: top;\n",
       "    }\n",
       "\n",
       "    .dataframe thead th {\n",
       "        text-align: right;\n",
       "    }\n",
       "</style>\n",
       "<table border=\"1\" class=\"dataframe\">\n",
       "  <thead>\n",
       "    <tr style=\"text-align: right;\">\n",
       "      <th></th>\n",
       "      <th>0</th>\n",
       "    </tr>\n",
       "  </thead>\n",
       "  <tbody>\n",
       "    <tr>\n",
       "      <th>0</th>\n",
       "      <td>/google/googletest</td>\n",
       "    </tr>\n",
       "    <tr>\n",
       "      <th>1</th>\n",
       "      <td>/projectdiscovery/nuclei-templates</td>\n",
       "    </tr>\n",
       "    <tr>\n",
       "      <th>2</th>\n",
       "      <td>/digitalocean/nginxconfig.io</td>\n",
       "    </tr>\n",
       "    <tr>\n",
       "      <th>3</th>\n",
       "      <td>/flutter/flutter</td>\n",
       "    </tr>\n",
       "    <tr>\n",
       "      <th>4</th>\n",
       "      <td>/PaddlePaddle/PaddleOCR</td>\n",
       "    </tr>\n",
       "    <tr>\n",
       "      <th>...</th>\n",
       "      <td>...</td>\n",
       "    </tr>\n",
       "    <tr>\n",
       "      <th>104</th>\n",
       "      <td>/cloudflare/cloudflare.github.io</td>\n",
       "    </tr>\n",
       "    <tr>\n",
       "      <th>105</th>\n",
       "      <td>/eleme/eleme.github.io</td>\n",
       "    </tr>\n",
       "    <tr>\n",
       "      <th>106</th>\n",
       "      <td>/didi/didi.github.io</td>\n",
       "    </tr>\n",
       "    <tr>\n",
       "      <th>107</th>\n",
       "      <td>/alibaba/alibaba.github.com</td>\n",
       "    </tr>\n",
       "    <tr>\n",
       "      <th>108</th>\n",
       "      <td>/google/google.github.io</td>\n",
       "    </tr>\n",
       "  </tbody>\n",
       "</table>\n",
       "<p>109 rows × 1 columns</p>\n",
       "</div>"
      ],
      "text/plain": [
       "                                      0\n",
       "0                    /google/googletest\n",
       "1    /projectdiscovery/nuclei-templates\n",
       "2          /digitalocean/nginxconfig.io\n",
       "3                      /flutter/flutter\n",
       "4               /PaddlePaddle/PaddleOCR\n",
       "..                                  ...\n",
       "104    /cloudflare/cloudflare.github.io\n",
       "105              /eleme/eleme.github.io\n",
       "106                /didi/didi.github.io\n",
       "107         /alibaba/alibaba.github.com\n",
       "108            /google/google.github.io\n",
       "\n",
       "[109 rows x 1 columns]"
      ]
     },
     "execution_count": 11,
     "metadata": {},
     "output_type": "execute_result"
    }
   ],
   "source": [
    "pd.read_csv('repos.csv')"
   ]
  },
  {
   "cell_type": "code",
   "execution_count": 20,
   "id": "8da1d544",
   "metadata": {},
   "outputs": [
    {
     "data": {
      "text/plain": [
       "['/google/googletest',\n",
       " '/projectdiscovery/nuclei-templates',\n",
       " '/digitalocean/nginxconfig.io',\n",
       " '/flutter/flutter',\n",
       " '/PaddlePaddle/PaddleOCR',\n",
       " '/supabase/supabase',\n",
       " '/felipefialho/frontend-challenges',\n",
       " '/flutter/samples',\n",
       " '/florinpop17/app-ideas',\n",
       " '/charmbracelet/bubbletea',\n",
       " '/huggingface/transformers',\n",
       " '/databricks-academy/data-engineering-with-databricks',\n",
       " '/Azure/azure-rest-api-specs',\n",
       " '/terra-money/core',\n",
       " '/actions/virtual-environments',\n",
       " '/dotnet/aspnetcore',\n",
       " '/danielgindi/Charts',\n",
       " '/microsoft/unilm',\n",
       " '/eugenp/tutorials',\n",
       " '/elastic/kibana',\n",
       " '/JuliaLang/julia',\n",
       " '/ACM-Alexandria-SC/Internships',\n",
       " '/mozilla/pdf.js',\n",
       " '/serverless/serverless',\n",
       " '/valinet/ExplorerPatcher',\n",
       " '/facebookresearch/metaseq',\n",
       " '/pyscript/pyscript',\n",
       " '/education/GitHubGraduation-2022',\n",
       " '/microsoft/Microsoft-3D-Movie-Maker',\n",
       " '/microsoft/Web-Dev-For-Beginners',\n",
       " '/gogs/gogs',\n",
       " '/rustdesk/rustdesk',\n",
       " '/Grasscutters/Grasscutter',\n",
       " '/zadam/trilium',\n",
       " '/tauri-apps/tauri',\n",
       " '/NvChad/NvChad',\n",
       " '/onceupon/Bash-Oneliner',\n",
       " '/SebLague/Geographical-Adventures',\n",
       " '/docker/awesome-compose',\n",
       " '/bitwarden/clients',\n",
       " '/microsoft/calculator',\n",
       " '/appsmithorg/appsmith',\n",
       " '/go-kratos/kratos',\n",
       " '/microsoft/vscode',\n",
       " '/aptos-labs/aptos-core',\n",
       " '/copy/v86',\n",
       " '/PHPMailer/PHPMailer',\n",
       " '/DataTalksClub/mlops-zoomcamp',\n",
       " '/alibaba/nacos',\n",
       " '/alembics/disco-diffusion',\n",
       " '/mastodon/mastodon',\n",
       " '/microsoft/ML-For-Beginners',\n",
       " '/openai/DALL-E',\n",
       " '/pytube/pytube',\n",
       " '/sunflower-land/sunflower-land',\n",
       " '/MichaelCade/90DaysOfDevOps',\n",
       " '/vlang/v',\n",
       " '/bregman-arie/devops-exercises',\n",
       " '/bevyengine/bevy',\n",
       " '/PaddlePaddle/PaddleDetection',\n",
       " '/Textualize/textual',\n",
       " '/openai/CLIP',\n",
       " '/papers-we-love/papers-we-love',\n",
       " '/benbjohnson/litestream',\n",
       " '/neovim/neovim',\n",
       " '/firecracker-microvm/firecracker',\n",
       " '/hashcat/hashcat',\n",
       " '/caddyserver/caddy',\n",
       " '/bradtraversy/50projects50days',\n",
       " '/mikecao/umami',\n",
       " '/30-seconds/30-seconds-of-code',\n",
       " '/railsgirls/railsgirls.github.io',\n",
       " '/railsbridge/docs',\n",
       " '/freeCodeCamp/freeCodeCamp',\n",
       " '/leachim6/hello-world',\n",
       " '/datasciencemasters/go',\n",
       " '/practical-tutorials/project-based-learning',\n",
       " '/zhiwehu/Python-programming-exercises',\n",
       " '/MunGell/awesome-for-beginners',\n",
       " '/appacademy/welcome-to-open',\n",
       " '/lostdesign/webgems',\n",
       " '/kamranahmedse/developer-roadmap',\n",
       " '/AMAI-GmbH/AI-Expert-Roadmap',\n",
       " '/trekhleb/javascript-algorithms',\n",
       " '/karan/Projects',\n",
       " '/sindresorhus/awesome',\n",
       " '/donnemartin/system-design-primer',\n",
       " '/codecrafters-io/build-your-own-x',\n",
       " '/public-apis/public-apis',\n",
       " '/adobe/adobe.github.com',\n",
       " '/RedHatOfficial/RedHatOfficial.github.io',\n",
       " '/cfpb/cfpb.github.io',\n",
       " '/Netflix/netflix.github.com',\n",
       " '/Esri/esri.github.io',\n",
       " '/square/square.github.io',\n",
       " '/twitter/opensource-website',\n",
       " '/guardian/guardian.github.com',\n",
       " '/Yelp/yelp.github.io',\n",
       " '/Shopify/shopify.github.com',\n",
       " '/IBM/ibm.github.io',\n",
       " '/microsoft/microsoft.github.io',\n",
       " '/artsy/artsy.github.io',\n",
       " '/OSGeo/osgeo',\n",
       " '/godaddy/godaddy.github.io',\n",
       " '/cloudflare/cloudflare.github.io',\n",
       " '/eleme/eleme.github.io',\n",
       " '/didi/didi.github.io',\n",
       " '/alibaba/alibaba.github.com',\n",
       " '/google/google.github.io']"
      ]
     },
     "execution_count": 20,
     "metadata": {},
     "output_type": "execute_result"
    }
   ],
   "source": [
    "pd.read_csv('repos.csv')['0'].to_list()"
   ]
  },
  {
   "cell_type": "code",
   "execution_count": null,
   "id": "d183d0dd",
   "metadata": {},
   "outputs": [],
   "source": []
  }
 ],
 "metadata": {
  "kernelspec": {
   "display_name": "Python 3 (ipykernel)",
   "language": "python",
   "name": "python3"
  },
  "language_info": {
   "codemirror_mode": {
    "name": "ipython",
    "version": 3
   },
   "file_extension": ".py",
   "mimetype": "text/x-python",
   "name": "python",
   "nbconvert_exporter": "python",
   "pygments_lexer": "ipython3",
   "version": "3.9.7"
  }
 },
 "nbformat": 4,
 "nbformat_minor": 5
}
